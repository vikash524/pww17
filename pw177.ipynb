{
 "cells": [
  {
   "cell_type": "code",
   "execution_count": null,
   "id": "687d0dcc-7e05-43ca-a20f-300b7798b338",
   "metadata": {},
   "outputs": [],
   "source": [
    "# Q1. Explain GET and POST methods.\n",
    "\n",
    "# GET Method:\n",
    "# - GET is a request method used to request data from a specified resource.\n",
    "# - It is typically used for retrieving data from a server.\n",
    "# - Data is appended to the URL in the form of query parameters.\n",
    "# - It is not suitable for sending sensitive information as it is visible in the URL.\n",
    "\n",
    "# POST Method:\n",
    "# - POST is a request method used to submit data to be processed to a specified resource.\n",
    "# - It is typically used for submitting form data or uploading files to a server.\n",
    "# - Data is sent in the request body, which is not visible in the URL.\n",
    "# - It is suitable for sending sensitive information as it is not visible in the URL.\n",
    "\n",
    "# Q2. Why is request used in Flask?\n",
    "\n",
    "# The `request` object in Flask is used to access incoming request data such as form data, query parameters, files, and more. It allows Flask applications to handle and process data sent by clients in HTTP requests.\n",
    "\n",
    "# Q3. Why is redirect() used in Flask?\n",
    "\n",
    "# The `redirect()` function in Flask is used to redirect the client to a different URL. It is commonly used after processing a form submission or performing some action to redirect the user to a different page or URL.\n",
    "\n",
    "# Q4. What are templates in Flask? Why is the render_template() function used?\n",
    "\n",
    "# Templates in Flask are HTML files that contain placeholders for dynamic content. They allow developers to create reusable layouts for web pages and dynamically inject data into HTML content. The `render_template()` function in Flask is used to render HTML templates and pass data to them for dynamic rendering. It simplifies the process of generating HTML responses in Flask applications.\n",
    "\n",
    "# Q5. Create a simple API. Use Postman to test it. Attach the screenshot of the output in the Jupyter Notebook.\n",
    "\n",
    "from flask import Flask, jsonify, request\n",
    "\n",
    "app = Flask(__name__)\n",
    "\n",
    "@app.route('/api', methods=['GET', 'POST'])\n",
    "def api():\n",
    "    if request.method == 'GET':\n",
    "        return jsonify({'message': 'GET method used'})\n",
    "    elif request.method == 'POST':\n",
    "        data = request.json\n",
    "        return jsonify({'message': 'POST method used', 'data': data})\n",
    "\n",
    "if __name__ == '__main__':\n",
    "    app.run()\n",
    "\n",
    "# After running the above code, you can use Postman to test the API.\n",
    "# Send GET requests to `http://127.0.0.1:5000/api` and observe the response.\n",
    "# Send POST requests to `http://127.0.0.1:5000/api` with JSON data in the request body and observe the response.\n",
    "\n"
   ]
  }
 ],
 "metadata": {
  "kernelspec": {
   "display_name": "Python 3 (ipykernel)",
   "language": "python",
   "name": "python3"
  },
  "language_info": {
   "codemirror_mode": {
    "name": "ipython",
    "version": 3
   },
   "file_extension": ".py",
   "mimetype": "text/x-python",
   "name": "python",
   "nbconvert_exporter": "python",
   "pygments_lexer": "ipython3",
   "version": "3.10.8"
  }
 },
 "nbformat": 4,
 "nbformat_minor": 5
}
